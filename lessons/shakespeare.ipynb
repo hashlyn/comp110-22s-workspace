{
 "cells": [
  {
   "cell_type": "markdown",
   "metadata": {},
   "source": [
    "# Quantifying Shakespeare\n",
    "In this notebook we will find the frequencies with which Shakespear's words used letters.\n"
   ]
  },
  {
   "cell_type": "code",
   "execution_count": null,
   "metadata": {},
   "outputs": [],
   "source": [
    "from io import TextIOWrapper \n",
    "\n",
    "def read_file(filename: str) -> list[str]:\n",
    "\"\"\"Given the name of the file, return a list of its lines.\"\"\"\n",
    "lines: list[str] = []\n",
    "file: TextIOWrapper = open(filename, \"r\", encoding=\"utf8\")\n",
    "return lines\n",
    "\n",
    "\n",
    "shakespeare_lines: list[str] = read_files(\"./shakespear.txt\")\n",
    "print(shakespeare_lines)"
   ]
  }
 ],
 "metadata": {
  "language_info": {
   "name": "python"
  },
  "orig_nbformat": 4
 },
 "nbformat": 4,
 "nbformat_minor": 2
}
